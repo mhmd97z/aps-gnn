{
 "cells": [
  {
   "cell_type": "code",
   "execution_count": null,
   "id": "1199c5bd",
   "metadata": {},
   "outputs": [
    {
     "name": "stderr",
     "output_type": "stream",
     "text": [
      "/tmp/ipykernel_2983075/884244392.py:4: FutureWarning: You are using `torch.load` with `weights_only=False` (the current default value), which uses the default pickle module implicitly. It is possible to construct malicious pickle data which will execute arbitrary code during unpickling (See https://github.com/pytorch/pytorch/blob/main/SECURITY.md#untrusted-models for more details). In a future release, the default value for `weights_only` will be flipped to `True`. This limits the functions that could be executed during unpickling. Arbitrary objects will no longer be allowed to be loaded via this mode unless they are explicitly allowlisted by the user via `torch.serialization.add_safe_globals`. We recommend you start setting `weights_only=True` for any use case where you don't have full control of the loaded file. Please open an issue on GitHub for any issues related to this experimental feature.\n",
      "  data = torch.load(file_path)\n"
     ]
    }
   ],
   "source": [
    "import torch\n",
    "\n",
    "file_path = '/home/mzi/olp-gnn/dataset_train.pt'\n",
    "data = torch.load(file_path)\n",
    "\n",
    "new_data = []\n",
    "k = 8\n",
    "for nUes in [2, 4, 6]:\n",
    "    for connProb in [1.0]:\n",
    "        key = f'seed_100_precoder_olp_mor_urban_nAps_20_nUes_{nUes}_connProb_{connProb}'\n",
    "        for data_ in data[0][key]:\n",
    "            data_2 = data_.clone()\n",
    "            channel_abs = data_2['channel'].x[:,0].reshape((nUes, 20))\n",
    "            indices = torch.topk(channel_abs, k, dim=1, largest=True).indices\n",
    "            mask = torch.zeros((nUes, 20)).scatter_(1, indices, 1).to(torch.int)\n",
    "            data_2['channel'].y = mask.reshape((-1, 1))\n",
    "            data_2['channel'].x = data_2['channel'].x[:,:2].reshape((-1, 2))\n",
    "            data_2['channel'].input_mean = data_2['channel'].input_mean[:,:2]\n",
    "            data_2['channel'].input_std = data_2['channel'].input_std[:,:2]\n",
    "            data_2['channel'].pop(\"output_mean\")\n",
    "            data_2['channel'].pop(\"output_std\")\n",
    "            data_2['channel'].pop(\"rho_d\")\n",
    "            data_2['channel'].pop(\"sinr\")\n",
    "            new_data.append(data_2)\n",
    "            \n"
   ]
  },
  {
   "cell_type": "code",
   "execution_count": 114,
   "id": "0b8c1458",
   "metadata": {},
   "outputs": [
    {
     "data": {
      "text/plain": [
       "HeteroData(\n",
       "  channel={\n",
       "    x=[40, 2],\n",
       "    y=[40, 1],\n",
       "    input_mean=[1, 2],\n",
       "    input_std=[1, 2],\n",
       "    n_ues=2,\n",
       "    n_aps=20,\n",
       "    num_graph_node=40,\n",
       "  },\n",
       "  (channel, same_ue, channel)={ edge_index=[2, 760] },\n",
       "  (channel, same_ap, channel)={ edge_index=[2, 40] }\n",
       ")"
      ]
     },
     "execution_count": 114,
     "metadata": {},
     "output_type": "execute_result"
    }
   ],
   "source": [
    "new_data[110]"
   ]
  },
  {
   "cell_type": "code",
   "execution_count": 98,
   "id": "dfa69d8a",
   "metadata": {},
   "outputs": [],
   "source": [
    "import pickle\n",
    "with open(\"/home/mzi/olp-gnn/data_generation/8strongest/data.pickle\", 'wb') as f:\n",
    "    pickle.dump(new_data, f)"
   ]
  }
 ],
 "metadata": {
  "kernelspec": {
   "display_name": "aps-gnn",
   "language": "python",
   "name": "python3"
  },
  "language_info": {
   "codemirror_mode": {
    "name": "ipython",
    "version": 3
   },
   "file_extension": ".py",
   "mimetype": "text/x-python",
   "name": "python",
   "nbconvert_exporter": "python",
   "pygments_lexer": "ipython3",
   "version": "3.9.20"
  }
 },
 "nbformat": 4,
 "nbformat_minor": 5
}
