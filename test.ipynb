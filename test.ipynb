{
 "cells": [
  {
   "cell_type": "code",
   "execution_count": null,
   "metadata": {},
   "outputs": [],
   "source": [
    "from onpolicy.envs.aps.aps import Aps\n",
    "from types import SimpleNamespace\n",
    "\n",
    "import yaml\n",
    "import argparse\n",
    "import numpy as np\n",
    "\n",
    "yaml_path = \"/home/mzi/aps-infomarl/onpolicy/aps-config.yaml\"\n",
    "with open(yaml_path, 'r') as file:\n",
    "    yaml_config = yaml.safe_load(file)\n",
    "yaml_config\n",
    "\n",
    "\n",
    "def dict_to_object(d):\n",
    "    if isinstance(d, dict):\n",
    "        return SimpleNamespace(**{k: dict_to_object(v) for k, v in d.items()})\n",
    "    return d\n",
    "obj = dict_to_object(yaml_config)\n",
    "env = Aps(obj.env_args)\n"
   ]
  },
  {
   "cell_type": "code",
   "execution_count": 20,
   "metadata": {},
   "outputs": [],
   "source": [
    "obs, state, mask, info, same_ue, same_ap = env.reset()\n"
   ]
  },
  {
   "cell_type": "code",
   "execution_count": 25,
   "metadata": {},
   "outputs": [],
   "source": [
    "random_binary_array = np.random.randint(2, size=80)\n",
    "\n",
    "obs, state, reward, done, info, mask, same_ue, same_ap = env.step(random_binary_array)"
   ]
  }
 ],
 "metadata": {
  "kernelspec": {
   "display_name": "infomarl",
   "language": "python",
   "name": "python3"
  },
  "language_info": {
   "codemirror_mode": {
    "name": "ipython",
    "version": 3
   },
   "file_extension": ".py",
   "mimetype": "text/x-python",
   "name": "python",
   "nbconvert_exporter": "python",
   "pygments_lexer": "ipython3",
   "version": "3.9.20"
  }
 },
 "nbformat": 4,
 "nbformat_minor": 2
}
