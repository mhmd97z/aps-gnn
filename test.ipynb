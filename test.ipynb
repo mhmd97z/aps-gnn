{
 "cells": [
  {
   "cell_type": "code",
   "execution_count": null,
   "metadata": {},
   "outputs": [],
   "source": [
    "from onpolicy.envs.aps.aps import Aps\n",
    "from types import SimpleNamespace\n",
    "\n",
    "import yaml\n",
    "import argparse\n",
    "import numpy as np\n",
    "\n",
    "yaml_path = \"/home/mzi/aps-infomarl/onpolicy/aps-config.yaml\"\n",
    "with open(yaml_path, 'r') as file:\n",
    "    yaml_config = yaml.safe_load(file)\n",
    "yaml_config\n",
    "\n",
    "\n",
    "def dict_to_object(d):\n",
    "    if isinstance(d, dict):\n",
    "        return SimpleNamespace(**{k: dict_to_object(v) for k, v in d.items()})\n",
    "    return d\n",
    "obj = dict_to_object(yaml_config)\n",
    "env = Aps(obj.env_args)\n"
   ]
  },
  {
   "cell_type": "code",
   "execution_count": 20,
   "metadata": {},
   "outputs": [],
   "source": [
    "obs, state, mask, info, same_ue, same_ap = env.reset()\n"
   ]
  },
  {
   "cell_type": "code",
   "execution_count": 25,
   "metadata": {},
   "outputs": [],
   "source": [
    "random_binary_array = np.random.randint(2, size=80)\n",
    "\n",
    "obs, state, reward, done, info, mask, same_ue, same_ap = env.step(random_binary_array)"
   ]
  },
  {
   "cell_type": "code",
   "execution_count": 1,
   "metadata": {},
   "outputs": [],
   "source": [
    "import torch"
   ]
  },
  {
   "cell_type": "code",
   "execution_count": 11,
   "metadata": {},
   "outputs": [
    {
     "name": "stdout",
     "output_type": "stream",
     "text": [
      "tensor([[[ 0,  1,  2,  3,  4,  5,  6,  7,  8,  9],\n",
      "         [10, 11, 12, 13, 14, 15, 16, 17, 18, 19],\n",
      "         [20, 21, 22, 23, 24, 25, 26, 27, 28, 29]],\n",
      "\n",
      "        [[30, 31, 32, 33, 34, 35, 36, 37, 38, 39],\n",
      "         [40, 41, 42, 43, 44, 45, 46, 47, 48, 49],\n",
      "         [50, 51, 52, 53, 54, 55, 56, 57, 58, 59]]])\n"
     ]
    }
   ],
   "source": [
    "print(a)"
   ]
  },
  {
   "cell_type": "code",
   "execution_count": 27,
   "metadata": {},
   "outputs": [
    {
     "name": "stdout",
     "output_type": "stream",
     "text": [
      "tensor([0, 1, 2, 3, 4, 5, 6, 7, 8, 9])\n",
      "tensor([[[0, 1, 2, 3, 4, 5, 6, 7, 8, 9],\n",
      "         [0, 1, 2, 3, 4, 5, 6, 7, 8, 9],\n",
      "         [0, 1, 2, 3, 4, 5, 6, 7, 8, 9]],\n",
      "\n",
      "        [[0, 1, 2, 3, 4, 5, 6, 7, 8, 9],\n",
      "         [0, 1, 2, 3, 4, 5, 6, 7, 8, 9],\n",
      "         [0, 1, 2, 3, 4, 5, 6, 7, 8, 9]]])\n",
      "tensor([[0, 1, 2, 3, 4, 5, 6, 7, 8, 9],\n",
      "        [0, 1, 2, 3, 4, 5, 6, 7, 8, 9],\n",
      "        [0, 1, 2, 3, 4, 5, 6, 7, 8, 9],\n",
      "        [0, 1, 2, 3, 4, 5, 6, 7, 8, 9],\n",
      "        [0, 1, 2, 3, 4, 5, 6, 7, 8, 9],\n",
      "        [0, 1, 2, 3, 4, 5, 6, 7, 8, 9]])\n"
     ]
    }
   ],
   "source": [
    "import torch\n",
    "\n",
    "# Create a tensor of size 10 (from 0 to 9)\n",
    "tensor = torch.arange(10)\n",
    "print(tensor)\n",
    "\n",
    "# Repeat the tensor (2, 3) times\n",
    "repeated_tensor = tensor.repeat(2, 3, 1)\n",
    "print(repeated_tensor)\n",
    "\n",
    "print(repeated_tensor.reshape((-1, 10)))"
   ]
  },
  {
   "cell_type": "code",
   "execution_count": 28,
   "metadata": {},
   "outputs": [
    {
     "name": "stdout",
     "output_type": "stream",
     "text": [
      "tensor([[ 0,  1,  2,  3,  4,  5,  6,  7,  8,  9],\n",
      "        [10, 11, 12, 13, 14, 15, 16, 17, 18, 19],\n",
      "        [20, 21, 22, 23, 24, 25, 26, 27, 28, 29],\n",
      "        [30, 31, 32, 33, 34, 35, 36, 37, 38, 39],\n",
      "        [40, 41, 42, 43, 44, 45, 46, 47, 48, 49],\n",
      "        [50, 51, 52, 53, 54, 55, 56, 57, 58, 59]])\n"
     ]
    }
   ],
   "source": [
    "a = torch.arange(60).reshape(2, 3, 10)\n",
    "\n",
    "print(a.reshape((-1, 10)))"
   ]
  }
 ],
 "metadata": {
  "kernelspec": {
   "display_name": "infomarl",
   "language": "python",
   "name": "python3"
  },
  "language_info": {
   "codemirror_mode": {
    "name": "ipython",
    "version": 3
   },
   "file_extension": ".py",
   "mimetype": "text/x-python",
   "name": "python",
   "nbconvert_exporter": "python",
   "pygments_lexer": "ipython3",
   "version": "3.9.20"
  }
 },
 "nbformat": 4,
 "nbformat_minor": 2
}
